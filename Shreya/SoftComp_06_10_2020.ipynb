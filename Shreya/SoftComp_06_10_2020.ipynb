{
  "nbformat": 4,
  "nbformat_minor": 0,
  "metadata": {
    "colab": {
      "name": "SoftComp-06/10/2020.ipynb",
      "provenance": [],
      "collapsed_sections": [],
      "authorship_tag": "ABX9TyMAGirBr7+byKXzGMYm15i0",
      "include_colab_link": true
    },
    "kernelspec": {
      "name": "python3",
      "display_name": "Python 3"
    }
  },
  "cells": [
    {
      "cell_type": "markdown",
      "metadata": {
        "id": "view-in-github",
        "colab_type": "text"
      },
      "source": [
        "<a href=\"https://colab.research.google.com/github/spshreya/python_prac/blob/master/Shreya/SoftComp_06_10_2020.ipynb\" target=\"_parent\"><img src=\"https://colab.research.google.com/assets/colab-badge.svg\" alt=\"Open In Colab\"/></a>"
      ]
    },
    {
      "cell_type": "code",
      "metadata": {
        "id": "IbzMcuKieVYx"
      },
      "source": [
        ""
      ],
      "execution_count": null,
      "outputs": []
    },
    {
      "cell_type": "markdown",
      "metadata": {
        "id": "NcwvG9lQeidy"
      },
      "source": [
        "**AIM:** \n",
        "\n",
        "1.   A program to implement all operators in python.\n",
        "2.   Make a list of any 6 libraries of Python w/ their functionalities in brief.\n"
      ]
    },
    {
      "cell_type": "markdown",
      "metadata": {
        "id": "Lg-Xwxg9eeZT"
      },
      "source": [
        "**A program to implement all operators in python.**"
      ]
    },
    {
      "cell_type": "markdown",
      "metadata": {
        "id": "JPxwAwFIfkxq"
      },
      "source": [
        "Arithmetic Operators:"
      ]
    },
    {
      "cell_type": "code",
      "metadata": {
        "id": "lbDSqaO9gBNV",
        "outputId": "4e6bb8ba-630c-4666-e98e-9103b4bcd5c7",
        "colab": {
          "base_uri": "https://localhost:8080/",
          "height": 51
        }
      },
      "source": [
        "x=int(input('enter the values(integral) of two variables'))\n",
        "y=int(input())"
      ],
      "execution_count": null,
      "outputs": [
        {
          "output_type": "stream",
          "text": [
            "enter the values(integral) of two variables15\n",
            "5\n"
          ],
          "name": "stdout"
        }
      ]
    },
    {
      "cell_type": "code",
      "metadata": {
        "id": "iRiLt0ylgUru",
        "outputId": "9fadc8a9-5e13-469e-aa1d-23e86fda54a8",
        "colab": {
          "base_uri": "https://localhost:8080/",
          "height": 136
        }
      },
      "source": [
        "print('x + y =',x+y)\n",
        "print('x - y =',x-y)\n",
        "print('x * y =',x*y)\n",
        "print('x / y =',x/y) #division\n",
        "print('x // y =',x//y) #floor division\n",
        "print('x ** y =',x**y) #x to the power y\n",
        "print('x % y =',x%y) #mod"
      ],
      "execution_count": null,
      "outputs": [
        {
          "output_type": "stream",
          "text": [
            "x + y = 20\n",
            "x - y = 10\n",
            "x * y = 75\n",
            "x / y = 3.0\n",
            "x // y = 3\n",
            "x ** y = 759375\n",
            "x % y = 0\n"
          ],
          "name": "stdout"
        }
      ]
    },
    {
      "cell_type": "markdown",
      "metadata": {
        "id": "uFo7lfm9hu41"
      },
      "source": [
        "Comparision Operators:"
      ]
    },
    {
      "cell_type": "code",
      "metadata": {
        "id": "NfCIIr4jhpG4",
        "outputId": "e93dce75-023d-440e-aa59-0f827c5b15da",
        "colab": {
          "base_uri": "https://localhost:8080/",
          "height": 119
        }
      },
      "source": [
        "print('x > y is',x>y)\n",
        "print('x < y is',x<y)\n",
        "print('x == y is',x==y)\n",
        "print('x != y is',x!=y)\n",
        "print('x >= y is',x>=y)\n",
        "print('x <= y is',x<=y)"
      ],
      "execution_count": null,
      "outputs": [
        {
          "output_type": "stream",
          "text": [
            "x > y is True\n",
            "x < y is False\n",
            "x == y is False\n",
            "x != y is True\n",
            "x >= y is True\n",
            "x <= y is False\n"
          ],
          "name": "stdout"
        }
      ]
    },
    {
      "cell_type": "markdown",
      "metadata": {
        "id": "7XdN6eD7iEsF"
      },
      "source": [
        "Logical Operators:"
      ]
    },
    {
      "cell_type": "code",
      "metadata": {
        "id": "FxLezFJeiBBe",
        "outputId": "98a498a7-c7de-4ac7-9da4-d1c12b5990a7",
        "colab": {
          "base_uri": "https://localhost:8080/",
          "height": 68
        }
      },
      "source": [
        "a= True\n",
        "b= False\n",
        "print('a and b is',a and b)\n",
        "print('a or b is',a or b)\n",
        "print('not a is',not a)"
      ],
      "execution_count": null,
      "outputs": [
        {
          "output_type": "stream",
          "text": [
            "a and b is False\n",
            "a or b is True\n",
            "not a is False\n"
          ],
          "name": "stdout"
        }
      ]
    },
    {
      "cell_type": "markdown",
      "metadata": {
        "id": "JBg4nM6aitu4"
      },
      "source": [
        "Bitwise Operator:"
      ]
    },
    {
      "cell_type": "code",
      "metadata": {
        "id": "tXU95jO5ixQ1",
        "outputId": "af98daf1-ea33-46cc-bcf3-a37e97e18864",
        "colab": {
          "base_uri": "https://localhost:8080/",
          "height": 119
        }
      },
      "source": [
        "print('x & y is', x&y) #bitwise And\n",
        "print('x | y is', x | y) #bw OR\n",
        "print('not x is', ~x) #bw not\n",
        "print('x xor y is', x ^ y) #bw xor\n",
        "print('right shift x', x >> 2)\n",
        "print('left shift x', x<<2)"
      ],
      "execution_count": null,
      "outputs": [
        {
          "output_type": "stream",
          "text": [
            "x & y is 5\n",
            "x | y is 15\n",
            "not x is -16\n",
            "x xor y is 10\n",
            "right shift x 3\n",
            "left shift x 60\n"
          ],
          "name": "stdout"
        }
      ]
    },
    {
      "cell_type": "markdown",
      "metadata": {
        "id": "fxiiz9T2kcK2"
      },
      "source": [
        "Assignment Operators:"
      ]
    },
    {
      "cell_type": "code",
      "metadata": {
        "id": "Aqp2Aaq0i-0p",
        "outputId": "195ac5fb-5d30-444a-e89c-96944b5dc9ed",
        "colab": {
          "base_uri": "https://localhost:8080/",
          "height": 85
        }
      },
      "source": [
        "x=10 \n",
        "x+=1\n",
        "print(x)\n",
        "x-=1\n",
        "print(x)\n",
        "x/=2\n",
        "print(x)\n",
        "x%=5\n",
        "print(x)"
      ],
      "execution_count": null,
      "outputs": [
        {
          "output_type": "stream",
          "text": [
            "11\n",
            "10\n",
            "5.0\n",
            "0.0\n"
          ],
          "name": "stdout"
        }
      ]
    },
    {
      "cell_type": "markdown",
      "metadata": {
        "id": "OYVgC1b0mOhL"
      },
      "source": [
        "Identity operators:"
      ]
    },
    {
      "cell_type": "code",
      "metadata": {
        "id": "nS1ytDzzk5WA",
        "outputId": "ed607e7f-1ca6-496a-d757-4b93396c538d",
        "colab": {
          "base_uri": "https://localhost:8080/",
          "height": 68
        }
      },
      "source": [
        "x1 = 5\n",
        "y1 = 5\n",
        "x2 = 'Hello'\n",
        "y2 = 'Hello'\n",
        "x3 = [1,2,3]\n",
        "y3 = [1,2,3]\n",
        "\n",
        "print(x1 is not y1)\n",
        "print(x2 is y2)\n",
        "print(x3 is y3)"
      ],
      "execution_count": null,
      "outputs": [
        {
          "output_type": "stream",
          "text": [
            "False\n",
            "True\n",
            "False\n"
          ],
          "name": "stdout"
        }
      ]
    },
    {
      "cell_type": "markdown",
      "metadata": {
        "id": "67yGoJpHmvhQ"
      },
      "source": [
        "Membership operators:"
      ]
    },
    {
      "cell_type": "code",
      "metadata": {
        "id": "mIf3lWQ0myKZ",
        "outputId": "6fb016c9-31bf-45e1-ef1f-50020b554023",
        "colab": {
          "base_uri": "https://localhost:8080/",
          "height": 85
        }
      },
      "source": [
        "x = 'Hello Shreya'\n",
        "y = {1:'a',2:'b'}\n",
        "print('H' in x)\n",
        "print('hello' not in x)\n",
        "print(1 in y)\n",
        "print('b' in y)"
      ],
      "execution_count": null,
      "outputs": [
        {
          "output_type": "stream",
          "text": [
            "True\n",
            "True\n",
            "True\n",
            "False\n"
          ],
          "name": "stdout"
        }
      ]
    },
    {
      "cell_type": "markdown",
      "metadata": {
        "id": "JEI4vTgBnQ0T"
      },
      "source": [
        "**Make a list of any 6 libraries of Python w/ their functionalities in brief.**"
      ]
    },
    {
      "cell_type": "markdown",
      "metadata": {
        "id": "zWY6ZfyMnivB"
      },
      "source": [
        "A Python library is a reusable chunk of code that you may want to include in your programs/ projects. \n",
        "\n",
        "1.   **Numpy**\n",
        "      \n",
        "\n",
        "\n",
        "*   Interactive: Numpy is very interactive and easy to use.\n",
        "*   Mathematics: Makes complex mathematical implementations very simple.\n",
        "*   Intuitive: Makes coding real easy and grasping the concepts is easy.\n",
        "*   Lot of Interaction: Widely used, hence a lot of open source contribution.\n",
        "\n",
        "2.   **SciPy**\n",
        "\n",
        "*   The main feature of SciPy library is that it is developed using NumPy, and its array makes the most use of NumPy.\n",
        "*   SciPy provides all the efficient numerical routines like optimization, numerical integration, and many others using its specific submodules.\n",
        "\n",
        "3.  **Pandas**\n",
        "\n",
        "\n",
        "\n",
        "*   Pandas make sure that the entire process of manipulating data will be easier. \n",
        "*   Support for operations such as Re-indexing, Iteration, Sorting, Aggregations, Concatenations and Visualizations are among the feature highlights of Pandas.\n",
        "\n",
        "4. **Scikit-Learn**\n",
        "\n",
        "\n",
        "*   Cross-validation: There are various methods to check the accuracy of supervised models on unseen data.\n",
        "*    Unsupervised learning algorithms: Again there is a large spread of algorithms in the offering – starting from clustering, factor analysis, principal component analysis to unsupervised neural networks.\n",
        "\n",
        "*    Feature extraction: Useful for extracting features from images and text (e.g. Bag of words)\n",
        "\n",
        "5. **PyTorch**\n",
        "\n",
        "\n",
        "*   Hybrid Front-End\n",
        "\n",
        "A new hybrid front-end provides ease-of-use and flexibility in eager mode, while seamlessly transitioning to graph mode for speed, optimization, and functionality in C++ runtime environments.\n",
        "*   Distributed Training\n",
        "\n",
        "Optimize performance in both research and production by taking advantage of native support for asynchronous execution of collective operations and peer-to-peer communication that is accessible from Python and C++.\n",
        "\n"
      ]
    },
    {
      "cell_type": "markdown",
      "metadata": {
        "id": "QDosSgR2rGC9"
      },
      "source": [
        "6.  **Matplotlib**\n",
        "\n",
        "This is a library for 2-dimensional plotting with Python.\n",
        "Some plots it will let us build are:\n",
        "\n",
        "\n",
        "\n",
        "*   Plots\n",
        "*   Histograms\n",
        "\n",
        "*   Error charts\n",
        "*   Bar charts\n",
        "*   Scatter Plots\n",
        "\n",
        "\n",
        "\n",
        "---\n",
        "\n",
        "\n",
        "Some features of Python Plot supports-\n",
        "Font properties,Axes properties\n",
        ",Line styles"
      ]
    },
    {
      "cell_type": "code",
      "metadata": {
        "id": "NSTC8y4TnFo_"
      },
      "source": [
        ""
      ],
      "execution_count": null,
      "outputs": []
    }
  ]
}