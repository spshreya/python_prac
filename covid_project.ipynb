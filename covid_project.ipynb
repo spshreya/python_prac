{
  "nbformat": 4,
  "nbformat_minor": 0,
  "metadata": {
    "colab": {
      "name": "covid project.ipynb",
      "provenance": [],
      "authorship_tag": "ABX9TyOtgzqkixaW5AGU/Cj8shbY",
      "include_colab_link": true
    },
    "kernelspec": {
      "name": "python3",
      "display_name": "Python 3"
    }
  },
  "cells": [
    {
      "cell_type": "markdown",
      "metadata": {
        "id": "view-in-github",
        "colab_type": "text"
      },
      "source": [
        "<a href=\"https://colab.research.google.com/github/spshreya/python_prac/blob/master/covid_project.ipynb\" target=\"_parent\"><img src=\"https://colab.research.google.com/assets/colab-badge.svg\" alt=\"Open In Colab\"/></a>"
      ]
    },
    {
      "cell_type": "code",
      "metadata": {
        "colab": {
          "base_uri": "https://localhost:8080/"
        },
        "id": "1i_3XPR6h6L_",
        "outputId": "ccdfa63e-2bcb-4956-bb5c-b9d62277196f"
      },
      "source": [
        "!wget https://www.dropbox.com/s/u7k4oih25w6e2k8/8_risk_factors.rar?dl=0"
      ],
      "execution_count": 7,
      "outputs": [
        {
          "output_type": "stream",
          "text": [
            "--2020-11-22 20:11:11--  https://www.dropbox.com/s/u7k4oih25w6e2k8/8_risk_factors.rar?dl=0\n",
            "Resolving www.dropbox.com (www.dropbox.com)... 162.125.1.1, 2620:100:6016:1::a27d:101\n",
            "Connecting to www.dropbox.com (www.dropbox.com)|162.125.1.1|:443... connected.\n",
            "HTTP request sent, awaiting response... 301 Moved Permanently\n",
            "Location: /s/raw/u7k4oih25w6e2k8/8_risk_factors.rar [following]\n",
            "--2020-11-22 20:11:11--  https://www.dropbox.com/s/raw/u7k4oih25w6e2k8/8_risk_factors.rar\n",
            "Reusing existing connection to www.dropbox.com:443.\n",
            "HTTP request sent, awaiting response... 302 Found\n",
            "Location: https://uc31033ea917fe7b216fc312e6e5.dl.dropboxusercontent.com/cd/0/inline/BDvlFpbb4g89mtyE2T61O2a1V_k2C_WtO8lZeAQgyGnIHbY4TewEjqr7AwpWCNuoJxXEax9KqTzRn6EJVlz9035K8b38rIxpRnxhQYlISWu2DczwPnekizhO5owsPT7c044/file# [following]\n",
            "--2020-11-22 20:11:12--  https://uc31033ea917fe7b216fc312e6e5.dl.dropboxusercontent.com/cd/0/inline/BDvlFpbb4g89mtyE2T61O2a1V_k2C_WtO8lZeAQgyGnIHbY4TewEjqr7AwpWCNuoJxXEax9KqTzRn6EJVlz9035K8b38rIxpRnxhQYlISWu2DczwPnekizhO5owsPT7c044/file\n",
            "Resolving uc31033ea917fe7b216fc312e6e5.dl.dropboxusercontent.com (uc31033ea917fe7b216fc312e6e5.dl.dropboxusercontent.com)... 162.125.1.15, 2620:100:6016:15::a27d:10f\n",
            "Connecting to uc31033ea917fe7b216fc312e6e5.dl.dropboxusercontent.com (uc31033ea917fe7b216fc312e6e5.dl.dropboxusercontent.com)|162.125.1.15|:443... connected.\n",
            "HTTP request sent, awaiting response... 302 Found\n",
            "Location: /cd/0/inline2/BDuwWFV7pM2205C_skQ7E7Owyc5PBIKoUea8f8r_txU49jRY99KGK63ngdonCddVGa6jyjqdPi0sn1iCTLs7Jdj4nzKKG9sdA1QzLFl7U9OsvA6NPmGRvIbm2wF3CKL97Ek4vlb3QgTT2cFDahkj1AhYZrW2jAMgC1CLUtK6dIxkjE-jFyqBHdUEVWDO-QqskDSevXbc0pGY5ofdy2ugsKszyZFOb0-ldN_YzztsHFWUa6rSg3KIMiSnaLI7B4Fnr8ZA1G2LoQW2XDRdfEVqbc0mt4sj73Pz3BjnYa6YFK4JFaBQNHduMHwQaMLFkXqVDzKAo-LHrTzxcUeCPhY9M35AD_g2zEV5EIlURWVW3Jqmkg/file [following]\n",
            "--2020-11-22 20:11:12--  https://uc31033ea917fe7b216fc312e6e5.dl.dropboxusercontent.com/cd/0/inline2/BDuwWFV7pM2205C_skQ7E7Owyc5PBIKoUea8f8r_txU49jRY99KGK63ngdonCddVGa6jyjqdPi0sn1iCTLs7Jdj4nzKKG9sdA1QzLFl7U9OsvA6NPmGRvIbm2wF3CKL97Ek4vlb3QgTT2cFDahkj1AhYZrW2jAMgC1CLUtK6dIxkjE-jFyqBHdUEVWDO-QqskDSevXbc0pGY5ofdy2ugsKszyZFOb0-ldN_YzztsHFWUa6rSg3KIMiSnaLI7B4Fnr8ZA1G2LoQW2XDRdfEVqbc0mt4sj73Pz3BjnYa6YFK4JFaBQNHduMHwQaMLFkXqVDzKAo-LHrTzxcUeCPhY9M35AD_g2zEV5EIlURWVW3Jqmkg/file\n",
            "Reusing existing connection to uc31033ea917fe7b216fc312e6e5.dl.dropboxusercontent.com:443.\n",
            "HTTP request sent, awaiting response... 200 OK\n",
            "Length: 122352 (119K) [application/rar]\n",
            "Saving to: ‘8_risk_factors.rar?dl=0.1’\n",
            "\n",
            "8_risk_factors.rar? 100%[===================>] 119.48K  --.-KB/s    in 0.1s    \n",
            "\n",
            "2020-11-22 20:11:13 (961 KB/s) - ‘8_risk_factors.rar?dl=0.1’ saved [122352/122352]\n",
            "\n"
          ],
          "name": "stdout"
        }
      ]
    },
    {
      "cell_type": "code",
      "metadata": {
        "colab": {
          "base_uri": "https://localhost:8080/"
        },
        "id": "x2p3s7Vsid7x",
        "outputId": "6576e142-e679-4d56-9b88-9d81dc7289b1"
      },
      "source": [
        "!pip install unrar"
      ],
      "execution_count": 8,
      "outputs": [
        {
          "output_type": "stream",
          "text": [
            "Requirement already satisfied: unrar in /usr/local/lib/python3.6/dist-packages (0.4)\n"
          ],
          "name": "stdout"
        }
      ]
    },
    {
      "cell_type": "code",
      "metadata": {
        "colab": {
          "base_uri": "https://localhost:8080/"
        },
        "id": "ydbWWAczik37",
        "outputId": "f5da5797-70ff-4501-cfc1-74f1480bf4b0"
      },
      "source": [
        "!unrar x 8_risk_factors.rar\\?dl\\=0"
      ],
      "execution_count": 9,
      "outputs": [
        {
          "output_type": "stream",
          "text": [
            "\n",
            "UNRAR 5.50 freeware      Copyright (c) 1993-2017 Alexander Roshal\n",
            "\n",
            "\n",
            "Extracting from 8_risk_factors.rar?dl=0\n",
            "\n",
            "\n",
            "Would you like to replace the existing file 8_risk_factors/Age.csv\n",
            " 19804 bytes, modified on 2020-11-09 17:18\n",
            "with a new one\n",
            " 19804 bytes, modified on 2020-11-09 17:18\n",
            "\n",
            "[Y]es, [N]o, [A]ll, n[E]ver, [R]ename, [Q]uit A\n",
            "\n",
            "Extracting  8_risk_factors/Age.csv                                       \b\b\b\b  4%\b\b\b\b\b  OK \n",
            "Extracting  8_risk_factors/Asthma.csv                                    \b\b\b\b  5%\b\b\b\b\b  OK \n",
            "Extracting  8_risk_factors/Autoimmune disorders.csv                      \b\b\b\b  7%\b\b\b\b\b  OK \n",
            "Extracting  8_risk_factors/Cardio- and cerebrovascular disease.csv       \b\b\b\b  8%\b\b\b\b\b  OK \n",
            "Extracting  8_risk_factors/Cerebrovascular disease.csv                   \b\b\b\b 11%\b\b\b\b\b  OK \n",
            "Extracting  8_risk_factors/Chronic digestive disorders.csv               \b\b\b\b 13%\b\b\b\b\b  OK \n",
            "Extracting  8_risk_factors/Chronic kidney disease.csv                    \b\b\b\b 19%\b\b\b\b\b  OK \n",
            "Extracting  8_risk_factors/Chronic liver disease.csv                     \b\b\b\b 21%\b\b\b\b\b  OK \n",
            "Extracting  8_risk_factors/Chronic respiratory diseases.csv              \b\b\b\b 26%\b\b\b\b\b  OK \n",
            "Extracting  8_risk_factors/COPD.csv                                      \b\b\b\b 31%\b\b\b\b\b  OK \n",
            "Extracting  8_risk_factors/Dementia.csv                                  \b\b\b\b 32%\b\b\b\b\b  OK \n",
            "Extracting  8_risk_factors/Diabetes.csv                                  \b\b\b\b 41%\b\b\b\b\b  OK \n",
            "Extracting  8_risk_factors/Drinking.csv                                  \b\b\b\b 42%\b\b\b\b\b  OK \n",
            "Extracting  8_risk_factors/Endocrine diseases.csv                        \b\b\b\b 43%\b\b\b\b\b  OK \n",
            "Extracting  8_risk_factors/Ethnicity_ Hispanic vs. non-Hispanic.csv      \b\b\b\b 46%\b\b\b\b\b  OK \n",
            "Extracting  8_risk_factors/Heart Disease.csv                             \b\b\b\b 55%\b\b\b\b\b  OK \n",
            "Extracting  8_risk_factors/Heart Failure.csv                             \b\b\b\b 58%\b\b\b\b\b  OK \n",
            "Extracting  8_risk_factors/Hypertension.csv                              \b\b\b\b 67%\b\b\b\b\b  OK \n",
            "Extracting  8_risk_factors/Immune system disorders.csv                   \b\b\b\b 68%\b\b\b\b\b  OK \n",
            "Extracting  8_risk_factors/Male gender.csv                               \b\b\b\b 78%\b\b\b\b\b  OK \n",
            "Extracting  8_risk_factors/Neurological disorders.csv                    \b\b\b\b 79%\b\b\b\b\b  OK \n",
            "Extracting  8_risk_factors/Overweight or obese.csv                       \b\b\b\b 84%\b\b\b\b\b  OK \n",
            "Extracting  8_risk_factors/Race_ Asian vs. White.csv                     \b\b\b\b 86%\b\b\b\b\b  OK \n",
            "Extracting  8_risk_factors/Race_ Black vs. White.csv                     \b\b\b\b 90%\b\b\b\b\b  OK \n",
            "Extracting  8_risk_factors/Race_ Other vs. White.csv                     \b\b\b\b 92%\b\b\b\b\b  OK \n",
            "Extracting  8_risk_factors/Respiratory system diseases.csv               \b\b\b\b 93%\b\b\b\b\b  OK \n",
            "Extracting  8_risk_factors/Smoking Status.csv                            \b\b\b\b 99%\b\b\b\b\b  OK \n",
            "All OK\n"
          ],
          "name": "stdout"
        }
      ]
    },
    {
      "cell_type": "code",
      "metadata": {
        "id": "ziZPgzHfi4wA"
      },
      "source": [
        "%matplotlib inline\n",
        "import pandas as pd\n",
        "import numpy as np\n",
        "import matplotlib.pyplot as plt\n",
        "import os\n",
        "from google.colab.patches import cv2_imshow \n",
        "import cv2"
      ],
      "execution_count": 10,
      "outputs": []
    },
    {
      "cell_type": "code",
      "metadata": {
        "colab": {
          "base_uri": "https://localhost:8080/"
        },
        "id": "IYdZXxkSjC5C",
        "outputId": "0377187f-d61b-4d21-e8e7-7cd644efe165"
      },
      "source": [
        "pth= '8_risk_factors/'\n",
        "categories= ['Age.csv','Asthma.csv']\n",
        "dicty={}\n",
        "dictn={}\n",
        "for i in categories:\n",
        "  path= os.path.join(pth, i)\n",
        "  dataf= pd.read_csv(path)\n",
        "  y=0\n",
        "  n=0\n",
        "  for i in dataf['Critical only']:\n",
        "    if i =='Y':\n",
        "      y+=1\n",
        "    else:\n",
        "      n+=1\n",
        "  dicty[i]=y\n",
        "  dictn[i]=n\n",
        "\n",
        "print(dicty,dictn)"
      ],
      "execution_count": 14,
      "outputs": [
        {
          "output_type": "stream",
          "text": [
            "{'N': 11, 'Y': 6} {'N': 34, 'Y': 5}\n"
          ],
          "name": "stdout"
        }
      ]
    },
    {
      "cell_type": "code",
      "metadata": {
        "id": "rKnAJ1TkkA0C"
      },
      "source": [
        ""
      ],
      "execution_count": null,
      "outputs": []
    }
  ]
}