{
  "nbformat": 4,
  "nbformat_minor": 0,
  "metadata": {
    "colab": {
      "name": "covid project.ipynb",
      "provenance": [],
      "authorship_tag": "ABX9TyMyCZsVEA9OvKn6KHhI7keN",
      "include_colab_link": true
    },
    "kernelspec": {
      "name": "python3",
      "display_name": "Python 3"
    }
  },
  "cells": [
    {
      "cell_type": "markdown",
      "metadata": {
        "id": "view-in-github",
        "colab_type": "text"
      },
      "source": [
        "<a href=\"https://colab.research.google.com/github/spshreya/python_prac/blob/master/covid_project.ipynb\" target=\"_parent\"><img src=\"https://colab.research.google.com/assets/colab-badge.svg\" alt=\"Open In Colab\"/></a>"
      ]
    },
    {
      "cell_type": "code",
      "metadata": {
        "colab": {
          "base_uri": "https://localhost:8080/"
        },
        "id": "1i_3XPR6h6L_",
        "outputId": "f60a8db8-bc6b-4f73-efa4-9aed729862ce"
      },
      "source": [
        "!wget https://www.dropbox.com/s/u7k4oih25w6e2k8/8_risk_factors.rar?dl=0"
      ],
      "execution_count": 6,
      "outputs": [
        {
          "output_type": "stream",
          "text": [
            "--2020-11-23 12:35:16--  https://www.dropbox.com/s/u7k4oih25w6e2k8/8_risk_factors.rar?dl=0\n",
            "Resolving www.dropbox.com (www.dropbox.com)... 162.125.5.1, 2620:100:601d:1::a27d:501\n",
            "Connecting to www.dropbox.com (www.dropbox.com)|162.125.5.1|:443... connected.\n",
            "HTTP request sent, awaiting response... 301 Moved Permanently\n",
            "Location: /s/raw/u7k4oih25w6e2k8/8_risk_factors.rar [following]\n",
            "--2020-11-23 12:35:16--  https://www.dropbox.com/s/raw/u7k4oih25w6e2k8/8_risk_factors.rar\n",
            "Reusing existing connection to www.dropbox.com:443.\n",
            "HTTP request sent, awaiting response... 302 Found\n",
            "Location: https://uc641faef8aa14aa8cd9c7ada8b0.dl.dropboxusercontent.com/cd/0/inline/BDtbP7-tfbkalTZdI3SNMcsqjuphuBrR7UvFuiGuVfaOBKj8So81L7Z6BthrXl5XTQVJ-HyTYrtkyYG7_J9ogG0XocZuHmKbfws0ADWyutFVHwSVMNBI2RSw-86dXBg1kxA/file# [following]\n",
            "--2020-11-23 12:35:16--  https://uc641faef8aa14aa8cd9c7ada8b0.dl.dropboxusercontent.com/cd/0/inline/BDtbP7-tfbkalTZdI3SNMcsqjuphuBrR7UvFuiGuVfaOBKj8So81L7Z6BthrXl5XTQVJ-HyTYrtkyYG7_J9ogG0XocZuHmKbfws0ADWyutFVHwSVMNBI2RSw-86dXBg1kxA/file\n",
            "Resolving uc641faef8aa14aa8cd9c7ada8b0.dl.dropboxusercontent.com (uc641faef8aa14aa8cd9c7ada8b0.dl.dropboxusercontent.com)... 162.125.9.15, 2620:100:601f:15::a27d:90f\n",
            "Connecting to uc641faef8aa14aa8cd9c7ada8b0.dl.dropboxusercontent.com (uc641faef8aa14aa8cd9c7ada8b0.dl.dropboxusercontent.com)|162.125.9.15|:443... connected.\n",
            "HTTP request sent, awaiting response... 302 Found\n",
            "Location: /cd/0/inline2/BDv7I0TD6ZL9B9qKiOHmjZcAf-HKN9x_IgVib7v7aEGP_uPBZJ2fm3QD2hfvfp2ONC0YNe6_-1P4oXHF3ovLmy8tSYP4Nj2xGPbDTFRXZBtnau--VKqfVbT0Y1csoYZVfX-AonncZ_rGMoDcUnqJ265fh1T8BjzU3I2TundUhLgSM-ddBjETvvV2TF28WumjQKpdk_ZCJIEJuGlkrCKmbDOaGgPCyxhVIrQ0M6kuVWXHkyBmsNBmOSEqRKJBbW2g1aPdxjF3DkraDcQBzbl7C2M1RQAjSQj0waz_OZxd6oG9SYLosCJaFoOOQDWyxE8k67yESPQ4VIw_WsaAV7Ogxqn33LKfz-VoMXaAzoN5ce749A/file [following]\n",
            "--2020-11-23 12:35:17--  https://uc641faef8aa14aa8cd9c7ada8b0.dl.dropboxusercontent.com/cd/0/inline2/BDv7I0TD6ZL9B9qKiOHmjZcAf-HKN9x_IgVib7v7aEGP_uPBZJ2fm3QD2hfvfp2ONC0YNe6_-1P4oXHF3ovLmy8tSYP4Nj2xGPbDTFRXZBtnau--VKqfVbT0Y1csoYZVfX-AonncZ_rGMoDcUnqJ265fh1T8BjzU3I2TundUhLgSM-ddBjETvvV2TF28WumjQKpdk_ZCJIEJuGlkrCKmbDOaGgPCyxhVIrQ0M6kuVWXHkyBmsNBmOSEqRKJBbW2g1aPdxjF3DkraDcQBzbl7C2M1RQAjSQj0waz_OZxd6oG9SYLosCJaFoOOQDWyxE8k67yESPQ4VIw_WsaAV7Ogxqn33LKfz-VoMXaAzoN5ce749A/file\n",
            "Reusing existing connection to uc641faef8aa14aa8cd9c7ada8b0.dl.dropboxusercontent.com:443.\n",
            "HTTP request sent, awaiting response... 200 OK\n",
            "Length: 122352 (119K) [application/rar]\n",
            "Saving to: ‘8_risk_factors.rar?dl=0.1’\n",
            "\n",
            "8_risk_factors.rar? 100%[===================>] 119.48K  --.-KB/s    in 0.04s   \n",
            "\n",
            "2020-11-23 12:35:18 (2.76 MB/s) - ‘8_risk_factors.rar?dl=0.1’ saved [122352/122352]\n",
            "\n"
          ],
          "name": "stdout"
        }
      ]
    },
    {
      "cell_type": "code",
      "metadata": {
        "colab": {
          "base_uri": "https://localhost:8080/"
        },
        "id": "x2p3s7Vsid7x",
        "outputId": "2d3acdbf-749f-4e2b-cb26-f9114be12168"
      },
      "source": [
        "!pip install unrar"
      ],
      "execution_count": 7,
      "outputs": [
        {
          "output_type": "stream",
          "text": [
            "Requirement already satisfied: unrar in /usr/local/lib/python3.6/dist-packages (0.4)\n"
          ],
          "name": "stdout"
        }
      ]
    },
    {
      "cell_type": "code",
      "metadata": {
        "colab": {
          "base_uri": "https://localhost:8080/"
        },
        "id": "ydbWWAczik37",
        "outputId": "94cab87b-2098-4be2-955c-d31afbb19e1f"
      },
      "source": [
        "!unrar x 8_risk_factors.rar\\?dl\\=0"
      ],
      "execution_count": 8,
      "outputs": [
        {
          "output_type": "stream",
          "text": [
            "\n",
            "UNRAR 5.50 freeware      Copyright (c) 1993-2017 Alexander Roshal\n",
            "\n",
            "\n",
            "Extracting from 8_risk_factors.rar?dl=0\n",
            "\n",
            "\n",
            "Would you like to replace the existing file 8_risk_factors/Age.csv\n",
            " 19804 bytes, modified on 2020-11-09 17:18\n",
            "with a new one\n",
            " 19804 bytes, modified on 2020-11-09 17:18\n",
            "\n",
            "[Y]es, [N]o, [A]ll, n[E]ver, [R]ename, [Q]uit A\n",
            "\n",
            "Extracting  8_risk_factors/Age.csv                                       \b\b\b\b  4%\b\b\b\b\b  OK \n",
            "Extracting  8_risk_factors/Asthma.csv                                    \b\b\b\b  5%\b\b\b\b\b  OK \n",
            "Extracting  8_risk_factors/Autoimmune disorders.csv                      \b\b\b\b  7%\b\b\b\b\b  OK \n",
            "Extracting  8_risk_factors/Cardio- and cerebrovascular disease.csv       \b\b\b\b  8%\b\b\b\b\b  OK \n",
            "Extracting  8_risk_factors/Cerebrovascular disease.csv                   \b\b\b\b 11%\b\b\b\b\b  OK \n",
            "Extracting  8_risk_factors/Chronic digestive disorders.csv               \b\b\b\b 13%\b\b\b\b\b  OK \n",
            "Extracting  8_risk_factors/Chronic kidney disease.csv                    \b\b\b\b 19%\b\b\b\b\b  OK \n",
            "Extracting  8_risk_factors/Chronic liver disease.csv                     \b\b\b\b 21%\b\b\b\b\b  OK \n",
            "Extracting  8_risk_factors/Chronic respiratory diseases.csv              \b\b\b\b 26%\b\b\b\b\b  OK \n",
            "Extracting  8_risk_factors/COPD.csv                                      \b\b\b\b 31%\b\b\b\b\b  OK \n",
            "Extracting  8_risk_factors/Dementia.csv                                  \b\b\b\b 32%\b\b\b\b\b  OK \n",
            "Extracting  8_risk_factors/Diabetes.csv                                  \b\b\b\b 41%\b\b\b\b\b  OK \n",
            "Extracting  8_risk_factors/Drinking.csv                                  \b\b\b\b 42%\b\b\b\b\b  OK \n",
            "Extracting  8_risk_factors/Endocrine diseases.csv                        \b\b\b\b 43%\b\b\b\b\b  OK \n",
            "Extracting  8_risk_factors/Ethnicity_ Hispanic vs. non-Hispanic.csv      \b\b\b\b 46%\b\b\b\b\b  OK \n",
            "Extracting  8_risk_factors/Heart Disease.csv                             \b\b\b\b 55%\b\b\b\b\b  OK \n",
            "Extracting  8_risk_factors/Heart Failure.csv                             \b\b\b\b 58%\b\b\b\b\b  OK \n",
            "Extracting  8_risk_factors/Hypertension.csv                              \b\b\b\b 67%\b\b\b\b\b  OK \n",
            "Extracting  8_risk_factors/Immune system disorders.csv                   \b\b\b\b 68%\b\b\b\b\b  OK \n",
            "Extracting  8_risk_factors/Male gender.csv                               \b\b\b\b 78%\b\b\b\b\b  OK \n",
            "Extracting  8_risk_factors/Neurological disorders.csv                    \b\b\b\b 79%\b\b\b\b\b  OK \n",
            "Extracting  8_risk_factors/Overweight or obese.csv                       \b\b\b\b 84%\b\b\b\b\b  OK \n",
            "Extracting  8_risk_factors/Race_ Asian vs. White.csv                     \b\b\b\b 86%\b\b\b\b\b  OK \n",
            "Extracting  8_risk_factors/Race_ Black vs. White.csv                     \b\b\b\b 90%\b\b\b\b\b  OK \n",
            "Extracting  8_risk_factors/Race_ Other vs. White.csv                     \b\b\b\b 92%\b\b\b\b\b  OK \n",
            "Extracting  8_risk_factors/Respiratory system diseases.csv               \b\b\b\b 93%\b\b\b\b\b  OK \n",
            "Extracting  8_risk_factors/Smoking Status.csv                            \b\b\b\b 99%\b\b\b\b\b  OK \n",
            "All OK\n"
          ],
          "name": "stdout"
        }
      ]
    },
    {
      "cell_type": "code",
      "metadata": {
        "id": "ziZPgzHfi4wA"
      },
      "source": [
        "%matplotlib inline\n",
        "import pandas as pd\n",
        "import numpy as np\n",
        "import matplotlib.pyplot as plt\n",
        "import os\n",
        "from google.colab.patches import cv2_imshow \n",
        "import cv2"
      ],
      "execution_count": 9,
      "outputs": []
    },
    {
      "cell_type": "code",
      "metadata": {
        "colab": {
          "base_uri": "https://localhost:8080/"
        },
        "id": "IYdZXxkSjC5C",
        "outputId": "17f396a4-3462-4239-d8ed-8f1a580ba3ff"
      },
      "source": [
        "pth= '8_risk_factors/'\n",
        "categories= ['Asthma.csv','Autoimmune disorders.csv','Cardio- and cerebrovascular disease.csv','Cerebrovascular disease.csv','Chronic digestive disorders.csv','Chronic kidney disease.csv','Chronic respiratory diseases.csv','COPD.csv',\n",
        "             'Dementia.csv','Diabetes.csv','Endocrine diseases.csv','Heart Disease.csv','Hypertension.csv','Immune system disorders.csv','Neurological disorders.csv','Respiratory system diseases.csv']\n",
        "lsty=[]\n",
        "lstn=[]\n",
        "for i in categories:\n",
        "  path= os.path.join(pth, i)\n",
        "  dataf= pd.read_csv(path)\n",
        "  y=0\n",
        "  n=0\n",
        "  for i in dataf['Critical only']:\n",
        "    if i =='Y':\n",
        "      y+=1\n",
        "    else:\n",
        "      n+=1\n",
        "  lsty.append(y)\n",
        "  lstn.append(n)\n",
        "\n",
        "print(lsty)\n",
        "print(lstn)"
      ],
      "execution_count": 42,
      "outputs": [
        {
          "output_type": "stream",
          "text": [
            "[6, 2, 2, 9, 1, 24, 19, 20, 4, 41, 0, 40, 43, 4, 5, 1]\n",
            "[5, 3, 8, 24, 6, 36, 28, 33, 7, 59, 4, 60, 57, 3, 2, 7]\n"
          ],
          "name": "stdout"
        }
      ]
    },
    {
      "cell_type": "code",
      "metadata": {
        "id": "VxXKHDR-NoWk"
      },
      "source": [
        "catt = ' '.join(categories)\n",
        "catt=catt.split('.csv')\n",
        "catt=catt[:-1]"
      ],
      "execution_count": 43,
      "outputs": []
    },
    {
      "cell_type": "code",
      "metadata": {
        "id": "rKnAJ1TkkA0C"
      },
      "source": [
        "df1=pd.DataFrame({'Yes':lsty,'No':lstn,'Disease':catt})"
      ],
      "execution_count": 44,
      "outputs": []
    },
    {
      "cell_type": "code",
      "metadata": {
        "colab": {
          "base_uri": "https://localhost:8080/",
          "height": 521
        },
        "id": "1d2-GTk4G9-h",
        "outputId": "ab77ffb0-c4c8-40fe-eda9-0785db76b3a3"
      },
      "source": [
        "df1"
      ],
      "execution_count": 45,
      "outputs": [
        {
          "output_type": "execute_result",
          "data": {
            "text/html": [
              "<div>\n",
              "<style scoped>\n",
              "    .dataframe tbody tr th:only-of-type {\n",
              "        vertical-align: middle;\n",
              "    }\n",
              "\n",
              "    .dataframe tbody tr th {\n",
              "        vertical-align: top;\n",
              "    }\n",
              "\n",
              "    .dataframe thead th {\n",
              "        text-align: right;\n",
              "    }\n",
              "</style>\n",
              "<table border=\"1\" class=\"dataframe\">\n",
              "  <thead>\n",
              "    <tr style=\"text-align: right;\">\n",
              "      <th></th>\n",
              "      <th>Yes</th>\n",
              "      <th>No</th>\n",
              "      <th>Disease</th>\n",
              "    </tr>\n",
              "  </thead>\n",
              "  <tbody>\n",
              "    <tr>\n",
              "      <th>0</th>\n",
              "      <td>6</td>\n",
              "      <td>5</td>\n",
              "      <td>Asthma</td>\n",
              "    </tr>\n",
              "    <tr>\n",
              "      <th>1</th>\n",
              "      <td>2</td>\n",
              "      <td>3</td>\n",
              "      <td>Autoimmune disorders</td>\n",
              "    </tr>\n",
              "    <tr>\n",
              "      <th>2</th>\n",
              "      <td>2</td>\n",
              "      <td>8</td>\n",
              "      <td>Cardio- and cerebrovascular disease</td>\n",
              "    </tr>\n",
              "    <tr>\n",
              "      <th>3</th>\n",
              "      <td>9</td>\n",
              "      <td>24</td>\n",
              "      <td>Cerebrovascular disease</td>\n",
              "    </tr>\n",
              "    <tr>\n",
              "      <th>4</th>\n",
              "      <td>1</td>\n",
              "      <td>6</td>\n",
              "      <td>Chronic digestive disorders</td>\n",
              "    </tr>\n",
              "    <tr>\n",
              "      <th>5</th>\n",
              "      <td>24</td>\n",
              "      <td>36</td>\n",
              "      <td>Chronic kidney disease</td>\n",
              "    </tr>\n",
              "    <tr>\n",
              "      <th>6</th>\n",
              "      <td>19</td>\n",
              "      <td>28</td>\n",
              "      <td>Chronic respiratory diseases</td>\n",
              "    </tr>\n",
              "    <tr>\n",
              "      <th>7</th>\n",
              "      <td>20</td>\n",
              "      <td>33</td>\n",
              "      <td>COPD</td>\n",
              "    </tr>\n",
              "    <tr>\n",
              "      <th>8</th>\n",
              "      <td>4</td>\n",
              "      <td>7</td>\n",
              "      <td>Dementia</td>\n",
              "    </tr>\n",
              "    <tr>\n",
              "      <th>9</th>\n",
              "      <td>41</td>\n",
              "      <td>59</td>\n",
              "      <td>Diabetes</td>\n",
              "    </tr>\n",
              "    <tr>\n",
              "      <th>10</th>\n",
              "      <td>0</td>\n",
              "      <td>4</td>\n",
              "      <td>Endocrine diseases</td>\n",
              "    </tr>\n",
              "    <tr>\n",
              "      <th>11</th>\n",
              "      <td>40</td>\n",
              "      <td>60</td>\n",
              "      <td>Heart Disease</td>\n",
              "    </tr>\n",
              "    <tr>\n",
              "      <th>12</th>\n",
              "      <td>43</td>\n",
              "      <td>57</td>\n",
              "      <td>Hypertension</td>\n",
              "    </tr>\n",
              "    <tr>\n",
              "      <th>13</th>\n",
              "      <td>4</td>\n",
              "      <td>3</td>\n",
              "      <td>Immune system disorders</td>\n",
              "    </tr>\n",
              "    <tr>\n",
              "      <th>14</th>\n",
              "      <td>5</td>\n",
              "      <td>2</td>\n",
              "      <td>Neurological disorders</td>\n",
              "    </tr>\n",
              "    <tr>\n",
              "      <th>15</th>\n",
              "      <td>1</td>\n",
              "      <td>7</td>\n",
              "      <td>Respiratory system diseases</td>\n",
              "    </tr>\n",
              "  </tbody>\n",
              "</table>\n",
              "</div>"
            ],
            "text/plain": [
              "    Yes  No                               Disease\n",
              "0     6   5                                Asthma\n",
              "1     2   3                  Autoimmune disorders\n",
              "2     2   8   Cardio- and cerebrovascular disease\n",
              "3     9  24               Cerebrovascular disease\n",
              "4     1   6           Chronic digestive disorders\n",
              "5    24  36                Chronic kidney disease\n",
              "6    19  28          Chronic respiratory diseases\n",
              "7    20  33                                  COPD\n",
              "8     4   7                              Dementia\n",
              "9    41  59                              Diabetes\n",
              "10    0   4                    Endocrine diseases\n",
              "11   40  60                         Heart Disease\n",
              "12   43  57                          Hypertension\n",
              "13    4   3               Immune system disorders\n",
              "14    5   2                Neurological disorders\n",
              "15    1   7           Respiratory system diseases"
            ]
          },
          "metadata": {
            "tags": []
          },
          "execution_count": 45
        }
      ]
    },
    {
      "cell_type": "code",
      "metadata": {
        "colab": {
          "base_uri": "https://localhost:8080/",
          "height": 282
        },
        "id": "CasjIg0yQPAo",
        "outputId": "d82d1379-4e93-4d49-bfd2-70ec4a64e284"
      },
      "source": [
        "yes=df1.loc[:, 'Yes']\n",
        "no=df1.loc[:,'No']\n",
        "dis=df1.loc[:,'Disease']\n",
        "plt.plot(dis,yes)\n",
        "plt.plot(dis,no)"
      ],
      "execution_count": 48,
      "outputs": [
        {
          "output_type": "execute_result",
          "data": {
            "text/plain": [
              "[<matplotlib.lines.Line2D at 0x7f8a16e63ef0>]"
            ]
          },
          "metadata": {
            "tags": []
          },
          "execution_count": 48
        },
        {
          "output_type": "display_data",
          "data": {
            "image/png": "[encoded data removed]",
            "text/plain": [
              "<Figure size 432x288 with 1 Axes>"
            ]
          },
          "metadata": {
            "tags": [],
            "needs_background": "light"
          }
        }
      ]
    },
    {
      "cell_type": "code",
      "metadata": {
        "id": "Wkg6hvsdSbPY"
      },
      "source": [
        ""
      ],
      "execution_count": null,
      "outputs": []
    }
  ]
}